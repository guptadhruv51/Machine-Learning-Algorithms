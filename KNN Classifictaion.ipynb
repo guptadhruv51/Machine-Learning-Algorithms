{
 "cells": [
  {
   "cell_type": "code",
   "execution_count": 1,
   "metadata": {},
   "outputs": [],
   "source": [
    "import numpy as np\n",
    "import pandas as pd\n",
    "import matplotlib.pyplot as plt\n",
    "%matplotlib inline"
   ]
  },
  {
   "cell_type": "code",
   "execution_count": 2,
   "metadata": {},
   "outputs": [
    {
     "data": {
      "text/plain": [
       "7.14142842854285"
      ]
     },
     "execution_count": 2,
     "metadata": {},
     "output_type": "execute_result"
    }
   ],
   "source": [
    "a=np.asarray([2,3,1])\n",
    "b=np.asarray([1,4,8])\n",
    "l2=np.sum(((a-b)**2))**0.5\n",
    "l2"
   ]
  },
  {
   "cell_type": "code",
   "execution_count": 3,
   "metadata": {},
   "outputs": [
    {
     "data": {
      "text/plain": [
       "9"
      ]
     },
     "execution_count": 3,
     "metadata": {},
     "output_type": "execute_result"
    }
   ],
   "source": [
    "l1=np.sum(abs(b-a))\n",
    "l1"
   ]
  },
  {
   "cell_type": "code",
   "execution_count": 4,
   "metadata": {},
   "outputs": [],
   "source": [
    "#Generating Data"
   ]
  },
  {
   "cell_type": "code",
   "execution_count": 5,
   "metadata": {},
   "outputs": [
    {
     "name": "stdout",
     "output_type": "stream",
     "text": [
      "(500, 2)\n"
     ]
    },
    {
     "data": {
      "image/png": "[encoded data removed]",
      "text/plain": [
       "<Figure size 432x288 with 1 Axes>"
      ]
     },
     "metadata": {},
     "output_type": "display_data"
    }
   ],
   "source": [
    "mean1=np.array([1,0])\n",
    "cov1=np.array([[1,.1],[.1,1.2]])\n",
    "dist1=np.random.multivariate_normal(mean1,cov1,500)\n",
    "print(dist1.shape)\n",
    "plt.xlim(-5,10)\n",
    "plt.ylim(-5,10)\n",
    "plt.scatter(dist1[:,0],dist1[:,1])\n",
    "plt.show()"
   ]
  },
  {
   "cell_type": "code",
   "execution_count": 6,
   "metadata": {},
   "outputs": [
    {
     "data": {
      "image/png": "[encoded data removed]",
      "text/plain": [
       "<Figure size 432x288 with 1 Axes>"
      ]
     },
     "metadata": {},
     "output_type": "display_data"
    }
   ],
   "source": [
    "mean1=np.array([1,0])\n",
    "cov1=np.array([[1,.1],[.1,1.2]])\n",
    "dist1=np.random.multivariate_normal(mean1,cov1,500)\n",
    "\n",
    "mean2=np.array([4,5])\n",
    "cov1=np.array([[1,.1],[.1,1.2]])\n",
    "dist2=np.random.multivariate_normal(mean2,cov1,500)\n",
    "\n",
    "plt.xlim(-5,10)\n",
    "plt.ylim(-5,10)\n",
    "plt.scatter(dist1[:,0],dist1[:,1],label='1')\n",
    "plt.scatter(dist2[:,0],dist2[:,-1],label='2')\n",
    "plt.legend()\n",
    "plt.show()"
   ]
  },
  {
   "cell_type": "code",
   "execution_count": 7,
   "metadata": {},
   "outputs": [],
   "source": [
    "#merging both data sets"
   ]
  },
  {
   "cell_type": "code",
   "execution_count": 8,
   "metadata": {},
   "outputs": [],
   "source": [
    "data=np.zeros((1000,3))\n",
    "data[:500,:2]=dist1\n",
    "data[500:,:2]=dist2\n",
    "#data[:500,2]=0\n",
    "data[500:,-1]=1"
   ]
  },
  {
   "cell_type": "code",
   "execution_count": 9,
   "metadata": {},
   "outputs": [
    {
     "name": "stdout",
     "output_type": "stream",
     "text": [
      "(1000, 3)\n",
      "[2.50217781 2.4807821  0.5       ]\n"
     ]
    }
   ],
   "source": [
    "print(data.shape)\n",
    "print(data.mean(axis=0))"
   ]
  },
  {
   "cell_type": "code",
   "execution_count": 10,
   "metadata": {},
   "outputs": [],
   "source": [
    "np.random.shuffle(data)"
   ]
  },
  {
   "cell_type": "code",
   "execution_count": null,
   "metadata": {},
   "outputs": [],
   "source": []
  },
  {
   "cell_type": "code",
   "execution_count": 11,
   "metadata": {},
   "outputs": [],
   "source": [
    "def distance(a,b):\n",
    "    return (np.sum((a-b)**2))**0.5"
   ]
  },
  {
   "cell_type": "code",
   "execution_count": 12,
   "metadata": {},
   "outputs": [],
   "source": [
    "#shape of x_train=1000,2\n",
    "# shape of y_tain=1000,1"
   ]
  },
  {
   "cell_type": "code",
   "execution_count": null,
   "metadata": {},
   "outputs": [],
   "source": []
  },
  {
   "cell_type": "code",
   "execution_count": 20,
   "metadata": {},
   "outputs": [],
   "source": [
    "def knn(x_train,y_train,test_point,k=7): #by default 7 nearest neighbours\n",
    "    distances=[]\n",
    "    m=x_train.shape[0]\n",
    "    for i in range(m):\n",
    "        d=distance(x_train[i],test_point)\n",
    "        distances.append([d,y_train[i]]) #distances and labels are added in the list\n",
    "    sorted_labels=sorted(distances,key=lambda r: r[0])\n",
    "    neighbors=np.asarray(sorted_labels)[:k,-1] #labels are fetched\n",
    "    #print(neighbors)\n",
    "    frequency=np.unique(neighbors,return_counts=True) #returns a 2-d list with unique  \n",
    "                                                            #values followed by their count \n",
    "    index=frequency[1].argmax() #fetching the index of max frequency\n",
    "    return frequency[0][index] #fetching the value label with max frequency"
   ]
  },
  {
   "cell_type": "code",
   "execution_count": 21,
   "metadata": {},
   "outputs": [
    {
     "data": {
      "text/plain": [
       "1.0"
      ]
     },
     "execution_count": 21,
     "metadata": {},
     "output_type": "execute_result"
    }
   ],
   "source": [
    "x_train=data[:,:2]\n",
    "y_train=data[:,-1]\n",
    "test_point=np.array([4,3])\n",
    "knn(x_train,y_train,test_point)"
   ]
  },
  {
   "cell_type": "code",
   "execution_count": 22,
   "metadata": {},
   "outputs": [
    {
     "data": {
      "text/plain": [
       "0.0"
      ]
     },
     "execution_count": 22,
     "metadata": {},
     "output_type": "execute_result"
    }
   ],
   "source": [
    "knn(x_train,y_train,[2.5,2])"
   ]
  },
  {
   "cell_type": "code",
   "execution_count": 23,
   "metadata": {},
   "outputs": [
    {
     "name": "stdout",
     "output_type": "stream",
     "text": [
      "(750, 2) (750,)\n",
      "(250, 2) (250,)\n"
     ]
    }
   ],
   "source": [
    "x_train=data[:750,:2]\n",
    "y_train=data[:750,-1]\n",
    "x_test=data[750:,:2]\n",
    "y_test=data[750:,-1]\n",
    "print(x_train.shape,y_train.shape)\n",
    "print(x_test.shape,y_test.shape)"
   ]
  },
  {
   "cell_type": "code",
   "execution_count": 24,
   "metadata": {},
   "outputs": [],
   "source": [
    "def acc(k):\n",
    "    predictions=[]\n",
    "    m=x_test.shape[0]\n",
    "    for i in range(m):\n",
    "        test_point=x_test[i]\n",
    "        predicted_label=knn(x_train,y_train,test_point,k)\n",
    "        predictions.append(predicted_label)\n",
    "    preds=np.asarray(predictions) \n",
    "    \n",
    "    return 100*(preds==y_test).sum()/m\n"
   ]
  },
  {
   "cell_type": "code",
   "execution_count": 25,
   "metadata": {},
   "outputs": [
    {
     "name": "stdout",
     "output_type": "stream",
     "text": [
      "For k=1 Acc=99.6\n",
      "For k=3 Acc=99.2\n",
      "For k=5 Acc=99.6\n",
      "For k=7 Acc=99.6\n",
      "For k=9 Acc=99.6\n"
     ]
    }
   ],
   "source": [
    "\n",
    "for k in range(1,10,2):\n",
    "    print(f\"For k={k} Acc={acc(k)}\")"
   ]
  },
  {
   "cell_type": "code",
   "execution_count": null,
   "metadata": {},
   "outputs": [],
   "source": []
  }
 ],
 "metadata": {
  "kernelspec": {
   "display_name": "Python 3",
   "language": "python",
   "name": "python3"
  },
  "language_info": {
   "codemirror_mode": {
    "name": "ipython",
    "version": 3
   },
   "file_extension": ".py",
   "mimetype": "text/x-python",
   "name": "python",
   "nbconvert_exporter": "python",
   "pygments_lexer": "ipython3",
   "version": "3.6.5"
  }
 },
 "nbformat": 4,
 "nbformat_minor": 2
}
