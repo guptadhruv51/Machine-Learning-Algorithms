{
 "cells": [
  {
   "cell_type": "markdown",
   "metadata": {},
   "source": [
    "### Creating Class"
   ]
  },
  {
   "cell_type": "code",
   "execution_count": 2,
   "metadata": {},
   "outputs": [
    {
     "name": "stdout",
     "output_type": "stream",
     "text": [
      "<__main__.Person object at 0x7fedd4406dd8>\n",
      "Alec Baldwin was born in 1958.\n"
     ]
    }
   ],
   "source": [
    "class Person:\n",
    "    pass\n",
    "\n",
    "john_doe = Person()\n",
    "john_doe.name = \"Alec\"\n",
    "john_doe.surname = \"Baldwin\"\n",
    "john_doe.year_of_birth = 1958\n",
    "\n",
    "\n",
    "print(john_doe)\n",
    "print(\"%s %s was born in %d.\" %\n",
    "      (john_doe.name, john_doe.surname, john_doe.year_of_birth))"
   ]
  },
  {
   "cell_type": "markdown",
   "metadata": {},
   "source": [
    "### Class Methods"
   ]
  },
  {
   "cell_type": "code",
   "execution_count": 9,
   "metadata": {},
   "outputs": [
    {
     "name": "stdout",
     "output_type": "stream",
     "text": [
      "Alec Baldwin was born in 1958 .\n",
      "56\n"
     ]
    }
   ],
   "source": [
    "class Person:\n",
    "    def __init__(a, name, surname, year_of_birth):\n",
    "        a.name = name\n",
    "        a.surname = surname\n",
    "        a.year_of_birth = year_of_birth\n",
    "    \n",
    "    def age(a, current_year):\n",
    "        return current_year - a.year_of_birth\n",
    "    \n",
    "    def __str__(a):\n",
    "        return \"%s %s was born in %d .\" % (a.name, a.surname, a.year_of_birth)\n",
    "    \n",
    "alec = Person(\"Alec\", \"Baldwin\", 1958)\n",
    "print(alec)\n",
    "print(alec.age(2014))"
   ]
  },
  {
   "cell_type": "markdown",
   "metadata": {},
   "source": [
    "### Abstraction"
   ]
  },
  {
   "cell_type": "code",
   "execution_count": 13,
   "metadata": {},
   "outputs": [
    {
     "name": "stdout",
     "output_type": "stream",
     "text": [
      "Alec Baldwin and was born 1958.\n",
      "Baldwin\n",
      "{'_name': 'Alec', '_surname': 'Baldwin', '_year_of_birth': 1958}\n"
     ]
    }
   ],
   "source": [
    "class Person:\n",
    "    def __init__(self, name, surname, year_of_birth):\n",
    "        self._name = name\n",
    "        self._surname = surname\n",
    "        self._year_of_birth = year_of_birth\n",
    "    \n",
    "    def age(self, current_year):\n",
    "        return current_year - self._year_of_birth\n",
    "    \n",
    "    def __str__(self):\n",
    "        return \"%s %s and was born %d.\" \\\n",
    "                % (self._name, self._surname, self._year_of_birth)\n",
    "    \n",
    "alec = Person(\"Alec\", \"Baldwin\", 1958)\n",
    "print(alec)\n",
    "print(alec._surname)\n",
    "print(alec.__dict__)"
   ]
  },
  {
   "cell_type": "code",
   "execution_count": 14,
   "metadata": {},
   "outputs": [
    {
     "name": "stdout",
     "output_type": "stream",
     "text": [
      "Alec\n",
      "{'_Person__name': 'Alec', '_Person__surname': 'Baldwin', '_Person__year_of_birth': 1958}\n"
     ]
    }
   ],
   "source": [
    "class Person:\n",
    "    def __init__(self, name, surname, year_of_birth):\n",
    "        self.__name = name\n",
    "        self.__surname = surname\n",
    "        self.__year_of_birth = year_of_birth\n",
    "    \n",
    "    def age(self, current_year):\n",
    "        return current_year - self.__year_of_birth\n",
    "    \n",
    "    def __str__(self):\n",
    "        return \"%s %s and was born %d.\" \\\n",
    "                % (self.__name, self.__surname, self.__year_of_birth)\n",
    "    \n",
    "alec = Person(\"Alec\", \"Baldwin\", 1958)\n",
    "print(alec._Person__name)\n",
    "print(alec.__dict__)"
   ]
  },
  {
   "cell_type": "markdown",
   "metadata": {},
   "source": [
    "## Inheritance"
   ]
  },
  {
   "cell_type": "code",
   "execution_count": 23,
   "metadata": {},
   "outputs": [],
   "source": [
    "class xyz():\n",
    "    def __init__(self,a,b,c=5):\n",
    "        self.a=a\n",
    "        self.b=b\n",
    "        self.c=c\n",
    "    def test(self):\n",
    "        print(\"Public Function\")        "
   ]
  },
  {
   "cell_type": "code",
   "execution_count": 24,
   "metadata": {},
   "outputs": [],
   "source": [
    "class abc(xyz):\n",
    "    def __init__(self,a,b,d,n):\n",
    "        xyz.__init__(self,a,b)\n",
    "        self.d=d\n",
    "        self.n=n\n",
    "        self.a=a\n",
    "        self.b=b"
   ]
  },
  {
   "cell_type": "code",
   "execution_count": 25,
   "metadata": {},
   "outputs": [
    {
     "name": "stdout",
     "output_type": "stream",
     "text": [
      "5\n",
      "6\n"
     ]
    }
   ],
   "source": [
    "obj=abc(5,6,7,8)\n",
    "print(obj.a)\n",
    "print(obj.b)"
   ]
  },
  {
   "cell_type": "code",
   "execution_count": 34,
   "metadata": {},
   "outputs": [],
   "source": [
    "class xyz():\n",
    "    def __init__(self,a,b,c=5):\n",
    "        self.a=a\n",
    "        self.b=b\n",
    "        self.c=c\n",
    "    def test(self):\n",
    "        print(\"Public Function\")        "
   ]
  },
  {
   "cell_type": "code",
   "execution_count": 39,
   "metadata": {},
   "outputs": [],
   "source": [
    "class abc(xyz):\n",
    "    def __init__(self,a,b,d,n):\n",
    "        super().__init__(self,a,b)\n",
    "        self.d=d\n",
    "        self.n=n\n",
    "        self.a=a\n",
    "        self.b=b"
   ]
  },
  {
   "cell_type": "code",
   "execution_count": 40,
   "metadata": {},
   "outputs": [
    {
     "name": "stdout",
     "output_type": "stream",
     "text": [
      "5\n"
     ]
    }
   ],
   "source": [
    "obj=abc(5,6,7,8)\n",
    "print(obj.a)"
   ]
  },
  {
   "cell_type": "code",
   "execution_count": 41,
   "metadata": {},
   "outputs": [],
   "source": [
    "class xyz():\n",
    "    def __init__(self,a,b,c=5):\n",
    "        self.a=a\n",
    "        self.b=b\n",
    "        self.c=c\n",
    "    def test(self):\n",
    "        return \"Hello\""
   ]
  },
  {
   "cell_type": "code",
   "execution_count": 46,
   "metadata": {},
   "outputs": [],
   "source": [
    "class abc(xyz):\n",
    "    def __init__(self,a,b):\n",
    "        super(abc,self).__init__(a,b)"
   ]
  },
  {
   "cell_type": "code",
   "execution_count": 47,
   "metadata": {},
   "outputs": [],
   "source": [
    "obj=abc(5,6)"
   ]
  },
  {
   "cell_type": "code",
   "execution_count": null,
   "metadata": {},
   "outputs": [],
   "source": []
  },
  {
   "cell_type": "code",
   "execution_count": 51,
   "metadata": {},
   "outputs": [],
   "source": [
    "class Person():\n",
    "    def __init__(self,name,surname,year_of_birth):\n",
    "        self.name=name\n",
    "        self.surname=surname\n",
    "        self.year_of_birth=year_of_birth"
   ]
  },
  {
   "cell_type": "code",
   "execution_count": 52,
   "metadata": {},
   "outputs": [],
   "source": [
    "class Student(Person):\n",
    "    def __init__(self,student_id,*args):\n",
    "        super().__init__(*args)\n",
    "        self.student_id=student_id"
   ]
  },
  {
   "cell_type": "code",
   "execution_count": 55,
   "metadata": {},
   "outputs": [
    {
     "name": "stdout",
     "output_type": "stream",
     "text": [
      "1\n",
      "Charlie\n",
      "Brown\n"
     ]
    }
   ],
   "source": [
    "Charlie=Student(1,'Charlie','Brown',2008)\n",
    "print(Charlie.student_id)\n",
    "print(Charlie.name)\n",
    "print(Charlie.surname)"
   ]
  },
  {
   "cell_type": "code",
   "execution_count": 57,
   "metadata": {},
   "outputs": [
    {
     "name": "stdout",
     "output_type": "stream",
     "text": [
      "True\n",
      "True\n",
      "True\n"
     ]
    }
   ],
   "source": [
    "print(isinstance(Charlie,Person))\n",
    "print(isinstance(Charlie,Student))\n",
    "print(issubclass(Student,Person))"
   ]
  },
  {
   "cell_type": "markdown",
   "metadata": {},
   "source": [
    "### Multiple "
   ]
  },
  {
   "cell_type": "code",
   "execution_count": 72,
   "metadata": {},
   "outputs": [
    {
     "name": "stdout",
     "output_type": "stream",
     "text": [
      "Class A\n",
      "Class B\n"
     ]
    }
   ],
   "source": [
    "class A:\n",
    "    def test(self):\n",
    "        print(\"Class A\")\n",
    "class B:\n",
    "    def test(self):\n",
    "        print(\"Class B\")\n",
    "class C(A,B):\n",
    "    obja=A()\n",
    "    objb=B()\n",
    "    obja.test()\n",
    "    objb.test()"
   ]
  },
  {
   "cell_type": "markdown",
   "metadata": {},
   "source": [
    "### Multilevel "
   ]
  },
  {
   "cell_type": "code",
   "execution_count": 73,
   "metadata": {},
   "outputs": [],
   "source": [
    "class A:\n",
    "    def test(self):\n",
    "        print(\"A\")\n",
    "class B(A):\n",
    "    def test1(self):\n",
    "        print(\"B\")\n",
    "class C(B):\n",
    "    def test2(self):\n",
    "        print(\"C\")"
   ]
  },
  {
   "cell_type": "code",
   "execution_count": 74,
   "metadata": {},
   "outputs": [
    {
     "name": "stdout",
     "output_type": "stream",
     "text": [
      "A\n"
     ]
    }
   ],
   "source": [
    "obj=C()\n",
    "obj.test()"
   ]
  },
  {
   "cell_type": "markdown",
   "metadata": {},
   "source": [
    "### Overriding Methods"
   ]
  },
  {
   "cell_type": "code",
   "execution_count": 76,
   "metadata": {},
   "outputs": [],
   "source": [
    "class A():\n",
    "    def test(self):\n",
    "        return \"Hi\"\n",
    "class B(A):\n",
    "    def test(self):\n",
    "        return super(B,self).test()+ \" there\""
   ]
  },
  {
   "cell_type": "code",
   "execution_count": 79,
   "metadata": {},
   "outputs": [
    {
     "data": {
      "text/plain": [
       "'Hi there'"
      ]
     },
     "execution_count": 79,
     "metadata": {},
     "output_type": "execute_result"
    }
   ],
   "source": [
    "B().test()"
   ]
  },
  {
   "cell_type": "markdown",
   "metadata": {},
   "source": [
    "### Encapsulation"
   ]
  },
  {
   "cell_type": "markdown",
   "metadata": {},
   "source": [
    "#### Composition"
   ]
  },
  {
   "cell_type": "code",
   "execution_count": 1,
   "metadata": {},
   "outputs": [
    {
     "name": "stdout",
     "output_type": "stream",
     "text": [
      "Tyres: \n",
      " \tBranch: Pirelli\n",
      " \tBelted-bias: True\n",
      " \tOptimal pressure: 2.0\n",
      "Engine: \n",
      " \tFuel type: Diesel\n",
      " \tNoise level:3\n",
      "Body:\n",
      " \tSize: Medium\n"
     ]
    }
   ],
   "source": [
    "class Tyres:\n",
    "    def __init__(self, branch, belted_bias, opt_pressure):\n",
    "        self.branch = branch\n",
    "        self.belted_bias = belted_bias\n",
    "        self.opt_pressure = opt_pressure\n",
    "        \n",
    "    def __str__(self):\n",
    "        return (\"Tyres: \\n \\tBranch: \" + self.branch +\n",
    "               \"\\n \\tBelted-bias: \" + str(self.belted_bias) + \n",
    "               \"\\n \\tOptimal pressure: \" + str(self.opt_pressure))\n",
    "        \n",
    "class Engine:\n",
    "    def __init__(self, fuel_type, noise_level):\n",
    "        self.fuel_type = fuel_type\n",
    "        self.noise_level = noise_level\n",
    "        \n",
    "    def __str__(self):\n",
    "        return (\"Engine: \\n \\tFuel type: \" + self.fuel_type +\n",
    "                \"\\n \\tNoise level:\" + str(self.noise_level))\n",
    "        \n",
    "class Body:\n",
    "    def __init__(self, size):\n",
    "        self.size = size\n",
    "        \n",
    "    def __str__(self):\n",
    "        return \"Body:\\n \\tSize: \" + self.size\n",
    "        \n",
    "class Car:\n",
    "    def __init__(self, tyres, engine, body):\n",
    "        self.tyres = tyres\n",
    "        self.engine = engine\n",
    "        self.body = body\n",
    "        \n",
    "    def __str__(self):\n",
    "        return str(self.tyres) + \"\\n\" + str(self.engine) + \"\\n\" + str(self.body)\n",
    "\n",
    "        \n",
    "t = Tyres('Pirelli', True, 2.0)\n",
    "e = Engine('Diesel', 3)\n",
    "b = Body('Medium')\n",
    "c = Car(t, e, b)\n",
    "print(c)"
   ]
  },
  {
   "cell_type": "markdown",
   "metadata": {},
   "source": [
    "#### Dynamic Extension"
   ]
  },
  {
   "cell_type": "code",
   "execution_count": 7,
   "metadata": {},
   "outputs": [
    {
     "name": "stdout",
     "output_type": "stream",
     "text": [
      "Kudrjavka is a Laika born in 1954.\n"
     ]
    }
   ],
   "source": [
    "class Dog:\n",
    "    def __init__(self, name, year_of_birth, breed):\n",
    "        self._name = name\n",
    "        self._year_of_birth = year_of_birth\n",
    "        self._breed = breed\n",
    "\n",
    "    def __str__(self):\n",
    "        return \"%s is a %s born in %d.\" % (self._name, self._breed, self._year_of_birth)\n",
    "\n",
    "kudrjavka = Dog(\"Kudrjavka\", 1954, \"Laika\")\n",
    "print(kudrjavka)"
   ]
  },
  {
   "cell_type": "code",
   "execution_count": 8,
   "metadata": {},
   "outputs": [
    {
     "name": "stdout",
     "output_type": "stream",
     "text": [
      "dsfs Student ID: 1\n",
      "Kudrjavka is a Laika born in 1954. Student ID: 2\n"
     ]
    }
   ],
   "source": [
    "class Student:\n",
    "    def __init__(self, anagraphic, student_id):\n",
    "        self._anagraphic = anagraphic\n",
    "        self._student_id = student_id\n",
    "    def __str__(self):\n",
    "        return str(self._anagraphic) + \" Student ID: %d\" % self._student_id\n",
    "\n",
    "\n",
    "alec_student = Student(\"dsfs\",1)\n",
    "kudrjavka_student = Student(kudrjavka, 2)\n",
    "\n",
    "print(alec_student)\n",
    "print(kudrjavka_student)"
   ]
  },
  {
   "cell_type": "code",
   "execution_count": null,
   "metadata": {},
   "outputs": [],
   "source": []
  }
 ],
 "metadata": {
  "kernelspec": {
   "display_name": "Python 3",
   "language": "python",
   "name": "python3"
  },
  "language_info": {
   "codemirror_mode": {
    "name": "ipython",
    "version": 3
   },
   "file_extension": ".py",
   "mimetype": "text/x-python",
   "name": "python",
   "nbconvert_exporter": "python",
   "pygments_lexer": "ipython3",
   "version": "3.6.9"
  }
 },
 "nbformat": 4,
 "nbformat_minor": 2
}
